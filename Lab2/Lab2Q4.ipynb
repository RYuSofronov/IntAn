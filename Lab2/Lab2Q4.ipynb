{
 "cells": [
  {
   "cell_type": "code",
   "execution_count": 2,
   "metadata": {},
   "outputs": [],
   "source": [
    "import pandas as pd\n",
    "\n",
    "try_1 = pd.read_csv('data-20180912-structure-20161019.csv', encoding = 'pt154', sep=';')"
   ]
  },
  {
   "cell_type": "code",
   "execution_count": 4,
   "metadata": {},
   "outputs": [],
   "source": [
    "try_1['Отрасль'] = try_1['Отрасль'].fillna(try_1['Отрасль'].ffill()) \n"
   ]
  },
  {
   "cell_type": "code",
   "execution_count": 9,
   "metadata": {},
   "outputs": [
    {
     "name": "stdout",
     "output_type": "stream",
     "text": [
      "Index(['№ п/п', 'Отрасль', '№ подпункта', 'Наименование организации',\n",
      "       'Субъект Российской Федерации', 'Курирующий департамент Министерства'],\n",
      "      dtype='object')\n"
     ]
    }
   ],
   "source": [
    "print(try_1.columns)\n"
   ]
  },
  {
   "cell_type": "code",
   "execution_count": 12,
   "metadata": {},
   "outputs": [],
   "source": [
    "counts = try_1.groupby(['Отрасль','Субъект Российской Федерации'])['Наименование организации'].count()\n"
   ]
  },
  {
   "cell_type": "code",
   "execution_count": 18,
   "metadata": {},
   "outputs": [
    {
     "data": {
      "text/plain": [
       "Субъект Российской Федерации\n",
       "Челябинская область     6\n",
       "Свердловская область    5\n",
       "г. Москва               3\n",
       "Московская область      3\n",
       "Республика Бурятия      2\n",
       "Name: Наименование организации, dtype: int64"
      ]
     },
     "execution_count": 18,
     "metadata": {},
     "output_type": "execute_result"
    }
   ],
   "source": [
    "counts['Металлургия'].sort_values(ascending=False).head(5)"
   ]
  },
  {
   "cell_type": "code",
   "execution_count": 19,
   "metadata": {},
   "outputs": [
    {
     "data": {
      "text/plain": [
       "Субъект Российской Федерации\n",
       "Республика Татарстан    10\n",
       "г. Москва                7\n",
       "Московская область       5\n",
       "Омская область           4\n",
       "Пермский край            4\n",
       "Name: Наименование организации, dtype: int64"
      ]
     },
     "execution_count": 19,
     "metadata": {},
     "output_type": "execute_result"
    }
   ],
   "source": [
    "counts['Химическая промышленность'].sort_values(ascending=False).head(5)"
   ]
  }
 ],
 "metadata": {
  "kernelspec": {
   "display_name": "Lab2",
   "language": "python",
   "name": "python3"
  },
  "language_info": {
   "codemirror_mode": {
    "name": "ipython",
    "version": 3
   },
   "file_extension": ".py",
   "mimetype": "text/x-python",
   "name": "python",
   "nbconvert_exporter": "python",
   "pygments_lexer": "ipython3",
   "version": "3.11.2"
  },
  "orig_nbformat": 4
 },
 "nbformat": 4,
 "nbformat_minor": 2
}

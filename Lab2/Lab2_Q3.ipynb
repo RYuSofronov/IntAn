{
 "cells": [
  {
   "cell_type": "code",
   "execution_count": null,
   "metadata": {},
   "outputs": [],
   "source": [
    "import pandas as pd\n",
    "\n",
    "# Музеи и галереи\n",
    "museum_list = pd.read_csv('data-19-structure-4.csv')"
   ]
  },
  {
   "cell_type": "code",
   "execution_count": 27,
   "metadata": {},
   "outputs": [
    {
     "data": {
      "text/plain": [
       "Местоположение\n",
       "Москва             402\n",
       "Санкт-Петербург    327\n",
       "Казань              59\n",
       "Омск                57\n",
       "Екатеринбург        57\n",
       "Новосибирск         55\n",
       "Иркутск             46\n",
       "Нижний Новгород     44\n",
       "Тула                40\n",
       "Ульяновск           39\n",
       "Name: Название, dtype: int64"
      ]
     },
     "execution_count": 27,
     "metadata": {},
     "output_type": "execute_result"
    }
   ],
   "source": [
    "museum_list.groupby('Местоположение')['Название'].count().sort_values(ascending=False).head(10)\n"
   ]
  },
  {
   "cell_type": "code",
   "execution_count": 75,
   "metadata": {},
   "outputs": [
    {
     "data": {
      "text/html": [
       "<div>\n",
       "<style scoped>\n",
       "    .dataframe tbody tr th:only-of-type {\n",
       "        vertical-align: middle;\n",
       "    }\n",
       "\n",
       "    .dataframe tbody tr th {\n",
       "        vertical-align: top;\n",
       "    }\n",
       "\n",
       "    .dataframe thead th {\n",
       "        text-align: right;\n",
       "    }\n",
       "</style>\n",
       "<table border=\"1\" class=\"dataframe\">\n",
       "  <thead>\n",
       "    <tr style=\"text-align: right;\">\n",
       "      <th></th>\n",
       "      <th>count</th>\n",
       "      <th>area</th>\n",
       "    </tr>\n",
       "  </thead>\n",
       "  <tbody>\n",
       "    <tr>\n",
       "      <th>1</th>\n",
       "      <td>442</td>\n",
       "      <td>Центральный федеральный округ</td>\n",
       "    </tr>\n",
       "    <tr>\n",
       "      <th>49</th>\n",
       "      <td>421</td>\n",
       "      <td>Приволжский федеральный округ</td>\n",
       "    </tr>\n",
       "    <tr>\n",
       "      <th>71</th>\n",
       "      <td>238</td>\n",
       "      <td>Сибирский федеральный округ</td>\n",
       "    </tr>\n",
       "    <tr>\n",
       "      <th>20</th>\n",
       "      <td>194</td>\n",
       "      <td>Северо-Западный федеральный округ</td>\n",
       "    </tr>\n",
       "    <tr>\n",
       "      <th>32</th>\n",
       "      <td>187</td>\n",
       "      <td>Южный федеральный округ</td>\n",
       "    </tr>\n",
       "    <tr>\n",
       "      <th>82</th>\n",
       "      <td>185</td>\n",
       "      <td>Дальневосточный федеральный округ</td>\n",
       "    </tr>\n",
       "    <tr>\n",
       "      <th>64</th>\n",
       "      <td>147</td>\n",
       "      <td>Уральский федеральный округ</td>\n",
       "    </tr>\n",
       "    <tr>\n",
       "      <th>11</th>\n",
       "      <td>75</td>\n",
       "      <td>Московская обл.</td>\n",
       "    </tr>\n",
       "    <tr>\n",
       "      <th>19</th>\n",
       "      <td>74</td>\n",
       "      <td>г.Москва</td>\n",
       "    </tr>\n",
       "    <tr>\n",
       "      <th>41</th>\n",
       "      <td>68</td>\n",
       "      <td>Северо-Кавказский федеральный округ</td>\n",
       "    </tr>\n",
       "  </tbody>\n",
       "</table>\n",
       "</div>"
      ],
      "text/plain": [
       "    count                                 area\n",
       "1     442        Центральный федеральный округ\n",
       "49    421        Приволжский федеральный округ\n",
       "71    238          Сибирский федеральный округ\n",
       "20    194    Северо-Западный федеральный округ\n",
       "32    187              Южный федеральный округ\n",
       "82    185    Дальневосточный федеральный округ\n",
       "64    147          Уральский федеральный округ\n",
       "11     75                      Московская обл.\n",
       "19     74                             г.Москва\n",
       "41     68  Северо-Кавказский федеральный округ"
      ]
     },
     "execution_count": 75,
     "metadata": {},
     "output_type": "execute_result"
    }
   ],
   "source": [
    "museum_list_v2 = pd.read_csv('data-2021-structure-2.csv')\n",
    "\n",
    "museum_list_v2 = museum_list_v2.drop(museum_list_v2.index[0])\n",
    "\n",
    "# с кириллическими названиями отказался работать\n",
    "rename_dict = {museum_list_v2.columns[3] : \"count\", museum_list_v2.columns[0] : \"area\"}\n",
    "museum_list_v2 = museum_list_v2.rename(columns=rename_dict)\n",
    "\n",
    "museum_list_v2[['count','area']].sort_values(by='count', ascending=False).head(10)"
   ]
  }
 ],
 "metadata": {
  "kernelspec": {
   "display_name": "Lab2",
   "language": "python",
   "name": "python3"
  },
  "language_info": {
   "codemirror_mode": {
    "name": "ipython",
    "version": 3
   },
   "file_extension": ".py",
   "mimetype": "text/x-python",
   "name": "python",
   "nbconvert_exporter": "python",
   "pygments_lexer": "ipython3",
   "version": "3.11.2"
  },
  "orig_nbformat": 4
 },
 "nbformat": 4,
 "nbformat_minor": 2
}
